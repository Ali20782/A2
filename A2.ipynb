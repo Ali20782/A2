{
 "cells": [
  {
   "cell_type": "code",
   "execution_count": 18,
   "metadata": {
    "metadata": {}
   },
   "outputs": [
    {
     "data": {
      "text/html": [
       "<pre style=\"white-space:pre;overflow-x:auto;line-height:normal;font-family:Menlo,'DejaVu Sans Mono',consolas,'Courier New',monospace\"><span style=\"color: #808000; text-decoration-color: #808000; font-weight: bold\">e:\\Python\\Lib\\site-packages\\airflow\\__init__.py:</span><span style=\"color: #808000; text-decoration-color: #808000; font-weight: bold\">35</span><span style=\"color: #808000; text-decoration-color: #808000; font-weight: bold\"> RuntimeWarning</span><span style=\"color: #808000; text-decoration-color: #808000\">: Airflow currently can be run on POSIX-compliant Operating Systems. For development, it is regularly tested on fairly modern Linux Distros and recent versions of macOS. On Windows you can run it via WSL2 </span><span style=\"color: #808000; text-decoration-color: #808000; font-weight: bold\">(</span><span style=\"color: #808000; text-decoration-color: #808000\">Windows Subsystem for Linux </span><span style=\"color: #808000; text-decoration-color: #808000; font-weight: bold\">2</span><span style=\"color: #808000; text-decoration-color: #808000; font-weight: bold\">)</span><span style=\"color: #808000; text-decoration-color: #808000\"> or via Linux Containers. The work to add Windows support is tracked via </span><span style=\"color: #808000; text-decoration-color: #808000; text-decoration: underline\">https://github.com/apache/airflow/issues/10388,</span><span style=\"color: #808000; text-decoration-color: #808000\"> but it is not a high priority.</span>\n",
       "</pre>\n"
      ],
      "text/plain": [
       "\u001b[1;33me:\\Python\\Lib\\site-packages\\airflow\\__init__.py:\u001b[0m\u001b[1;33m35\u001b[0m\u001b[1;33m RuntimeWarning\u001b[0m\u001b[33m: Airflow currently can be run on POSIX-compliant Operating Systems. For development, it is regularly tested on fairly modern Linux Distros and recent versions of macOS. On Windows you can run it via WSL2 \u001b[0m\u001b[1;33m(\u001b[0m\u001b[33mWindows Subsystem for Linux \u001b[0m\u001b[1;33m2\u001b[0m\u001b[1;33m)\u001b[0m\u001b[33m or via Linux Containers. The work to add Windows support is tracked via \u001b[0m\u001b[4;33mhttps://github.com/apache/airflow/issues/10388,\u001b[0m\u001b[33m but it is not a high priority.\u001b[0m\n"
      ]
     },
     "metadata": {},
     "output_type": "display_data"
    },
    {
     "name": "stdout",
     "output_type": "stream",
     "text": [
      "[2024-05-12T18:14:17.234+0500] {logging_config.py:71} ERROR - Unable to load the config, contains a configuration error.\n"
     ]
    },
    {
     "ename": "ValueError",
     "evalue": "Unable to configure formatter 'airflow'",
     "output_type": "error",
     "traceback": [
      "\u001b[1;31m---------------------------------------------------------------------------\u001b[0m",
      "\u001b[1;31mAttributeError\u001b[0m                            Traceback (most recent call last)",
      "File \u001b[1;32me:\\Python\\Lib\\logging\\config.py:104\u001b[0m, in \u001b[0;36m_resolve\u001b[1;34m(name)\u001b[0m\n\u001b[0;32m    103\u001b[0m \u001b[38;5;28;01mtry\u001b[39;00m:\n\u001b[1;32m--> 104\u001b[0m     found \u001b[38;5;241m=\u001b[39m \u001b[38;5;28mgetattr\u001b[39m(found, n)\n\u001b[0;32m    105\u001b[0m \u001b[38;5;28;01mexcept\u001b[39;00m \u001b[38;5;167;01mAttributeError\u001b[39;00m:\n",
      "\u001b[1;31mAttributeError\u001b[0m: partially initialized module 'airflow' has no attribute 'utils' (most likely due to a circular import)",
      "\nDuring handling of the above exception, another exception occurred:\n",
      "\u001b[1;31mAttributeError\u001b[0m                            Traceback (most recent call last)",
      "File \u001b[1;32me:\\Python\\Lib\\logging\\config.py:552\u001b[0m, in \u001b[0;36mDictConfigurator.configure\u001b[1;34m(self)\u001b[0m\n\u001b[0;32m    551\u001b[0m \u001b[38;5;28;01mtry\u001b[39;00m:\n\u001b[1;32m--> 552\u001b[0m     formatters[name] \u001b[38;5;241m=\u001b[39m \u001b[38;5;28;43mself\u001b[39;49m\u001b[38;5;241;43m.\u001b[39;49m\u001b[43mconfigure_formatter\u001b[49m\u001b[43m(\u001b[49m\n\u001b[0;32m    553\u001b[0m \u001b[43m                                        \u001b[49m\u001b[43mformatters\u001b[49m\u001b[43m[\u001b[49m\u001b[43mname\u001b[49m\u001b[43m]\u001b[49m\u001b[43m)\u001b[49m\n\u001b[0;32m    554\u001b[0m \u001b[38;5;28;01mexcept\u001b[39;00m \u001b[38;5;167;01mException\u001b[39;00m \u001b[38;5;28;01mas\u001b[39;00m e:\n",
      "File \u001b[1;32me:\\Python\\Lib\\logging\\config.py:684\u001b[0m, in \u001b[0;36mDictConfigurator.configure_formatter\u001b[1;34m(self, config)\u001b[0m\n\u001b[0;32m    683\u001b[0m \u001b[38;5;28;01melse\u001b[39;00m:\n\u001b[1;32m--> 684\u001b[0m     c \u001b[38;5;241m=\u001b[39m \u001b[43m_resolve\u001b[49m\u001b[43m(\u001b[49m\u001b[43mcname\u001b[49m\u001b[43m)\u001b[49m\n\u001b[0;32m    686\u001b[0m \u001b[38;5;66;03m# A TypeError would be raised if \"validate\" key is passed in with a formatter callable\u001b[39;00m\n\u001b[0;32m    687\u001b[0m \u001b[38;5;66;03m# that does not accept \"validate\" as a parameter\u001b[39;00m\n",
      "File \u001b[1;32me:\\Python\\Lib\\logging\\config.py:107\u001b[0m, in \u001b[0;36m_resolve\u001b[1;34m(name)\u001b[0m\n\u001b[0;32m    106\u001b[0m         \u001b[38;5;28m__import__\u001b[39m(used)\n\u001b[1;32m--> 107\u001b[0m         found \u001b[38;5;241m=\u001b[39m \u001b[38;5;28mgetattr\u001b[39m(found, n)\n\u001b[0;32m    108\u001b[0m \u001b[38;5;28;01mreturn\u001b[39;00m found\n",
      "\u001b[1;31mAttributeError\u001b[0m: partially initialized module 'airflow' has no attribute 'utils' (most likely due to a circular import)",
      "\nThe above exception was the direct cause of the following exception:\n",
      "\u001b[1;31mValueError\u001b[0m                                Traceback (most recent call last)",
      "Cell \u001b[1;32mIn[18], line 1\u001b[0m\n\u001b[1;32m----> 1\u001b[0m \u001b[38;5;28;01mfrom\u001b[39;00m \u001b[38;5;21;01mairflow\u001b[39;00m \u001b[38;5;28;01mimport\u001b[39;00m DAG\n\u001b[0;32m      2\u001b[0m \u001b[38;5;28;01mfrom\u001b[39;00m \u001b[38;5;21;01mairflow\u001b[39;00m\u001b[38;5;21;01m.\u001b[39;00m\u001b[38;5;21;01moperators\u001b[39;00m\u001b[38;5;21;01m.\u001b[39;00m\u001b[38;5;21;01mpython\u001b[39;00m \u001b[38;5;28;01mimport\u001b[39;00m PythonOperator\n\u001b[0;32m      3\u001b[0m \u001b[38;5;28;01mfrom\u001b[39;00m \u001b[38;5;21;01mairflow\u001b[39;00m\u001b[38;5;21;01m.\u001b[39;00m\u001b[38;5;21;01mproviders\u001b[39;00m\u001b[38;5;21;01m.\u001b[39;00m\u001b[38;5;21;01mgoogle\u001b[39;00m\u001b[38;5;21;01m.\u001b[39;00m\u001b[38;5;21;01mdrive\u001b[39;00m\u001b[38;5;21;01m.\u001b[39;00m\u001b[38;5;21;01moperators\u001b[39;00m\u001b[38;5;21;01m.\u001b[39;00m\u001b[38;5;21;01mdrive\u001b[39;00m \u001b[38;5;28;01mimport\u001b[39;00m GoogleDriveUploadOperator\n",
      "File \u001b[1;32me:\\Python\\Lib\\site-packages\\airflow\\__init__.py:73\u001b[0m\n\u001b[0;32m     67\u001b[0m \u001b[38;5;66;03m# Perform side-effects unless someone has explicitly opted out before import\u001b[39;00m\n\u001b[0;32m     68\u001b[0m \u001b[38;5;66;03m# WARNING: DO NOT USE THIS UNLESS YOU REALLY KNOW WHAT YOU'RE DOING.\u001b[39;00m\n\u001b[0;32m     69\u001b[0m \u001b[38;5;66;03m# This environment variable prevents proper initialization, and things like\u001b[39;00m\n\u001b[0;32m     70\u001b[0m \u001b[38;5;66;03m# configs, logging, the ORM, etc. will be broken. It is only useful if you only\u001b[39;00m\n\u001b[0;32m     71\u001b[0m \u001b[38;5;66;03m# access certain trivial constants and free functions (e.g. `__version__`).\u001b[39;00m\n\u001b[0;32m     72\u001b[0m \u001b[38;5;28;01mif\u001b[39;00m \u001b[38;5;129;01mnot\u001b[39;00m os\u001b[38;5;241m.\u001b[39menviron\u001b[38;5;241m.\u001b[39mget(\u001b[38;5;124m\"\u001b[39m\u001b[38;5;124m_AIRFLOW__AS_LIBRARY\u001b[39m\u001b[38;5;124m\"\u001b[39m, \u001b[38;5;28;01mNone\u001b[39;00m):\n\u001b[1;32m---> 73\u001b[0m     \u001b[43msettings\u001b[49m\u001b[38;5;241;43m.\u001b[39;49m\u001b[43minitialize\u001b[49m\u001b[43m(\u001b[49m\u001b[43m)\u001b[49m\n\u001b[0;32m     75\u001b[0m \u001b[38;5;66;03m# Things to lazy import in form {local_name: ('target_module', 'target_name', 'deprecated')}\u001b[39;00m\n\u001b[0;32m     76\u001b[0m __lazy_imports: \u001b[38;5;28mdict\u001b[39m[\u001b[38;5;28mstr\u001b[39m, \u001b[38;5;28mtuple\u001b[39m[\u001b[38;5;28mstr\u001b[39m, \u001b[38;5;28mstr\u001b[39m, \u001b[38;5;28mbool\u001b[39m]] \u001b[38;5;241m=\u001b[39m {\n\u001b[0;32m     77\u001b[0m     \u001b[38;5;124m\"\u001b[39m\u001b[38;5;124mDAG\u001b[39m\u001b[38;5;124m\"\u001b[39m: (\u001b[38;5;124m\"\u001b[39m\u001b[38;5;124m.models.dag\u001b[39m\u001b[38;5;124m\"\u001b[39m, \u001b[38;5;124m\"\u001b[39m\u001b[38;5;124mDAG\u001b[39m\u001b[38;5;124m\"\u001b[39m, \u001b[38;5;28;01mFalse\u001b[39;00m),\n\u001b[0;32m     78\u001b[0m     \u001b[38;5;124m\"\u001b[39m\u001b[38;5;124mDataset\u001b[39m\u001b[38;5;124m\"\u001b[39m: (\u001b[38;5;124m\"\u001b[39m\u001b[38;5;124m.datasets\u001b[39m\u001b[38;5;124m\"\u001b[39m, \u001b[38;5;124m\"\u001b[39m\u001b[38;5;124mDataset\u001b[39m\u001b[38;5;124m\"\u001b[39m, \u001b[38;5;28;01mFalse\u001b[39;00m),\n\u001b[1;32m   (...)\u001b[0m\n\u001b[0;32m     82\u001b[0m     \u001b[38;5;124m\"\u001b[39m\u001b[38;5;124mAirflowException\u001b[39m\u001b[38;5;124m\"\u001b[39m: (\u001b[38;5;124m\"\u001b[39m\u001b[38;5;124m.exceptions\u001b[39m\u001b[38;5;124m\"\u001b[39m, \u001b[38;5;124m\"\u001b[39m\u001b[38;5;124mAirflowException\u001b[39m\u001b[38;5;124m\"\u001b[39m, \u001b[38;5;28;01mTrue\u001b[39;00m),\n\u001b[0;32m     83\u001b[0m }\n",
      "File \u001b[1;32me:\\Python\\Lib\\site-packages\\airflow\\settings.py:531\u001b[0m, in \u001b[0;36minitialize\u001b[1;34m()\u001b[0m\n\u001b[0;32m    529\u001b[0m import_local_settings()\n\u001b[0;32m    530\u001b[0m \u001b[38;5;28;01mglobal\u001b[39;00m LOGGING_CLASS_PATH\n\u001b[1;32m--> 531\u001b[0m LOGGING_CLASS_PATH \u001b[38;5;241m=\u001b[39m \u001b[43mconfigure_logging\u001b[49m\u001b[43m(\u001b[49m\u001b[43m)\u001b[49m\n\u001b[0;32m    532\u001b[0m State\u001b[38;5;241m.\u001b[39mstate_color\u001b[38;5;241m.\u001b[39mupdate(STATE_COLORS)\n\u001b[0;32m    534\u001b[0m configure_adapters()\n",
      "File \u001b[1;32me:\\Python\\Lib\\site-packages\\airflow\\logging_config.py:74\u001b[0m, in \u001b[0;36mconfigure_logging\u001b[1;34m()\u001b[0m\n\u001b[0;32m     71\u001b[0m     log\u001b[38;5;241m.\u001b[39merror(\u001b[38;5;124m\"\u001b[39m\u001b[38;5;124mUnable to load the config, contains a configuration error.\u001b[39m\u001b[38;5;124m\"\u001b[39m)\n\u001b[0;32m     72\u001b[0m     \u001b[38;5;66;03m# When there is an error in the config, escalate the exception\u001b[39;00m\n\u001b[0;32m     73\u001b[0m     \u001b[38;5;66;03m# otherwise Airflow would silently fall back on the default config\u001b[39;00m\n\u001b[1;32m---> 74\u001b[0m     \u001b[38;5;28;01mraise\u001b[39;00m e\n\u001b[0;32m     76\u001b[0m validate_logging_config(logging_config)\n\u001b[0;32m     78\u001b[0m \u001b[38;5;28;01mreturn\u001b[39;00m logging_class_path\n",
      "File \u001b[1;32me:\\Python\\Lib\\site-packages\\airflow\\logging_config.py:69\u001b[0m, in \u001b[0;36mconfigure_logging\u001b[1;34m()\u001b[0m\n\u001b[0;32m     66\u001b[0m             task_handler_config[\u001b[38;5;124m\"\u001b[39m\u001b[38;5;124mfilters\u001b[39m\u001b[38;5;124m\"\u001b[39m]\u001b[38;5;241m.\u001b[39mappend(\u001b[38;5;124m\"\u001b[39m\u001b[38;5;124mmask_secrets\u001b[39m\u001b[38;5;124m\"\u001b[39m)\n\u001b[0;32m     68\u001b[0m     \u001b[38;5;66;03m# Try to init logging\u001b[39;00m\n\u001b[1;32m---> 69\u001b[0m     \u001b[43mdictConfig\u001b[49m\u001b[43m(\u001b[49m\u001b[43mlogging_config\u001b[49m\u001b[43m)\u001b[49m\n\u001b[0;32m     70\u001b[0m \u001b[38;5;28;01mexcept\u001b[39;00m (\u001b[38;5;167;01mValueError\u001b[39;00m, \u001b[38;5;167;01mKeyError\u001b[39;00m) \u001b[38;5;28;01mas\u001b[39;00m e:\n\u001b[0;32m     71\u001b[0m     log\u001b[38;5;241m.\u001b[39merror(\u001b[38;5;124m\"\u001b[39m\u001b[38;5;124mUnable to load the config, contains a configuration error.\u001b[39m\u001b[38;5;124m\"\u001b[39m)\n",
      "File \u001b[1;32me:\\Python\\Lib\\logging\\config.py:823\u001b[0m, in \u001b[0;36mdictConfig\u001b[1;34m(config)\u001b[0m\n\u001b[0;32m    821\u001b[0m \u001b[38;5;28;01mdef\u001b[39;00m \u001b[38;5;21mdictConfig\u001b[39m(config):\n\u001b[0;32m    822\u001b[0m \u001b[38;5;250m    \u001b[39m\u001b[38;5;124;03m\"\"\"Configure logging using a dictionary.\"\"\"\u001b[39;00m\n\u001b[1;32m--> 823\u001b[0m     \u001b[43mdictConfigClass\u001b[49m\u001b[43m(\u001b[49m\u001b[43mconfig\u001b[49m\u001b[43m)\u001b[49m\u001b[38;5;241;43m.\u001b[39;49m\u001b[43mconfigure\u001b[49m\u001b[43m(\u001b[49m\u001b[43m)\u001b[49m\n",
      "File \u001b[1;32me:\\Python\\Lib\\logging\\config.py:555\u001b[0m, in \u001b[0;36mDictConfigurator.configure\u001b[1;34m(self)\u001b[0m\n\u001b[0;32m    552\u001b[0m         formatters[name] \u001b[38;5;241m=\u001b[39m \u001b[38;5;28mself\u001b[39m\u001b[38;5;241m.\u001b[39mconfigure_formatter(\n\u001b[0;32m    553\u001b[0m                                             formatters[name])\n\u001b[0;32m    554\u001b[0m     \u001b[38;5;28;01mexcept\u001b[39;00m \u001b[38;5;167;01mException\u001b[39;00m \u001b[38;5;28;01mas\u001b[39;00m e:\n\u001b[1;32m--> 555\u001b[0m         \u001b[38;5;28;01mraise\u001b[39;00m \u001b[38;5;167;01mValueError\u001b[39;00m(\u001b[38;5;124m'\u001b[39m\u001b[38;5;124mUnable to configure \u001b[39m\u001b[38;5;124m'\u001b[39m\n\u001b[0;32m    556\u001b[0m                          \u001b[38;5;124m'\u001b[39m\u001b[38;5;124mformatter \u001b[39m\u001b[38;5;132;01m%r\u001b[39;00m\u001b[38;5;124m'\u001b[39m \u001b[38;5;241m%\u001b[39m name) \u001b[38;5;28;01mfrom\u001b[39;00m \u001b[38;5;21;01me\u001b[39;00m\n\u001b[0;32m    557\u001b[0m \u001b[38;5;66;03m# Next, do filters - they don't refer to anything else, either\u001b[39;00m\n\u001b[0;32m    558\u001b[0m filters \u001b[38;5;241m=\u001b[39m config\u001b[38;5;241m.\u001b[39mget(\u001b[38;5;124m'\u001b[39m\u001b[38;5;124mfilters\u001b[39m\u001b[38;5;124m'\u001b[39m, EMPTY_DICT)\n",
      "\u001b[1;31mValueError\u001b[0m: Unable to configure formatter 'airflow'"
     ]
    }
   ],
   "source": [
    "from airflow import DAG\n",
    "from airflow.operators.python import PythonOperator\n",
    "from airflow.providers.google.drive.operators.drive import GoogleDriveUploadOperator\n",
    "from airflow.providers.github.operators.github import GithubFileOperator\n",
    "import requests\n",
    "from bs4 import BeautifulSoup\n",
    "import re\n",
    "import string\n",
    "import dvc\n",
    "\n"
   ]
  },
  {
   "cell_type": "code",
   "execution_count": 14,
   "metadata": {},
   "outputs": [
    {
     "data": {
      "text/html": [
       "<pre style=\"white-space:pre;overflow-x:auto;line-height:normal;font-family:Menlo,'DejaVu Sans Mono',consolas,'Courier New',monospace\"><span style=\"color: #808000; text-decoration-color: #808000; font-weight: bold\">e:\\Python\\Lib\\site-packages\\airflow\\__init__.py:</span><span style=\"color: #808000; text-decoration-color: #808000; font-weight: bold\">35</span><span style=\"color: #808000; text-decoration-color: #808000; font-weight: bold\"> RuntimeWarning</span><span style=\"color: #808000; text-decoration-color: #808000\">: Airflow currently can be run on POSIX-compliant Operating Systems. For development, it is regularly tested on fairly modern Linux Distros and recent versions of macOS. On Windows you can run it via WSL2 </span><span style=\"color: #808000; text-decoration-color: #808000; font-weight: bold\">(</span><span style=\"color: #808000; text-decoration-color: #808000\">Windows Subsystem for Linux </span><span style=\"color: #808000; text-decoration-color: #808000; font-weight: bold\">2</span><span style=\"color: #808000; text-decoration-color: #808000; font-weight: bold\">)</span><span style=\"color: #808000; text-decoration-color: #808000\"> or via Linux Containers. The work to add Windows support is tracked via </span><span style=\"color: #808000; text-decoration-color: #808000; text-decoration: underline\">https://github.com/apache/airflow/issues/10388,</span><span style=\"color: #808000; text-decoration-color: #808000\"> but it is not a high priority.</span>\n",
       "</pre>\n"
      ],
      "text/plain": [
       "\u001b[1;33me:\\Python\\Lib\\site-packages\\airflow\\__init__.py:\u001b[0m\u001b[1;33m35\u001b[0m\u001b[1;33m RuntimeWarning\u001b[0m\u001b[33m: Airflow currently can be run on POSIX-compliant Operating Systems. For development, it is regularly tested on fairly modern Linux Distros and recent versions of macOS. On Windows you can run it via WSL2 \u001b[0m\u001b[1;33m(\u001b[0m\u001b[33mWindows Subsystem for Linux \u001b[0m\u001b[1;33m2\u001b[0m\u001b[1;33m)\u001b[0m\u001b[33m or via Linux Containers. The work to add Windows support is tracked via \u001b[0m\u001b[4;33mhttps://github.com/apache/airflow/issues/10388,\u001b[0m\u001b[33m but it is not a high priority.\u001b[0m\n"
      ]
     },
     "metadata": {},
     "output_type": "display_data"
    },
    {
     "name": "stdout",
     "output_type": "stream",
     "text": [
      "[\u001b[34m2024-05-12T17:51:45.501+0500\u001b[0m] {\u001b[34mlogging_config.py:\u001b[0m71} ERROR\u001b[0m - Unable to load the config, contains a configuration error.\u001b[0m\n"
     ]
    },
    {
     "ename": "ValueError",
     "evalue": "Unable to configure formatter 'airflow'",
     "output_type": "error",
     "traceback": [
      "\u001b[1;31m---------------------------------------------------------------------------\u001b[0m",
      "\u001b[1;31mAttributeError\u001b[0m                            Traceback (most recent call last)",
      "File \u001b[1;32me:\\Python\\Lib\\logging\\config.py:104\u001b[0m, in \u001b[0;36m_resolve\u001b[1;34m(name)\u001b[0m\n\u001b[0;32m    103\u001b[0m \u001b[38;5;28;01mtry\u001b[39;00m:\n\u001b[1;32m--> 104\u001b[0m     found \u001b[38;5;241m=\u001b[39m \u001b[38;5;28mgetattr\u001b[39m(found, n)\n\u001b[0;32m    105\u001b[0m \u001b[38;5;28;01mexcept\u001b[39;00m \u001b[38;5;167;01mAttributeError\u001b[39;00m:\n",
      "\u001b[1;31mAttributeError\u001b[0m: partially initialized module 'airflow' has no attribute 'utils' (most likely due to a circular import)",
      "\nDuring handling of the above exception, another exception occurred:\n",
      "\u001b[1;31mAttributeError\u001b[0m                            Traceback (most recent call last)",
      "File \u001b[1;32me:\\Python\\Lib\\logging\\config.py:552\u001b[0m, in \u001b[0;36mDictConfigurator.configure\u001b[1;34m(self)\u001b[0m\n\u001b[0;32m    551\u001b[0m \u001b[38;5;28;01mtry\u001b[39;00m:\n\u001b[1;32m--> 552\u001b[0m     formatters[name] \u001b[38;5;241m=\u001b[39m \u001b[38;5;28;43mself\u001b[39;49m\u001b[38;5;241;43m.\u001b[39;49m\u001b[43mconfigure_formatter\u001b[49m\u001b[43m(\u001b[49m\n\u001b[0;32m    553\u001b[0m \u001b[43m                                        \u001b[49m\u001b[43mformatters\u001b[49m\u001b[43m[\u001b[49m\u001b[43mname\u001b[49m\u001b[43m]\u001b[49m\u001b[43m)\u001b[49m\n\u001b[0;32m    554\u001b[0m \u001b[38;5;28;01mexcept\u001b[39;00m \u001b[38;5;167;01mException\u001b[39;00m \u001b[38;5;28;01mas\u001b[39;00m e:\n",
      "File \u001b[1;32me:\\Python\\Lib\\logging\\config.py:684\u001b[0m, in \u001b[0;36mDictConfigurator.configure_formatter\u001b[1;34m(self, config)\u001b[0m\n\u001b[0;32m    683\u001b[0m \u001b[38;5;28;01melse\u001b[39;00m:\n\u001b[1;32m--> 684\u001b[0m     c \u001b[38;5;241m=\u001b[39m \u001b[43m_resolve\u001b[49m\u001b[43m(\u001b[49m\u001b[43mcname\u001b[49m\u001b[43m)\u001b[49m\n\u001b[0;32m    686\u001b[0m \u001b[38;5;66;03m# A TypeError would be raised if \"validate\" key is passed in with a formatter callable\u001b[39;00m\n\u001b[0;32m    687\u001b[0m \u001b[38;5;66;03m# that does not accept \"validate\" as a parameter\u001b[39;00m\n",
      "File \u001b[1;32me:\\Python\\Lib\\logging\\config.py:107\u001b[0m, in \u001b[0;36m_resolve\u001b[1;34m(name)\u001b[0m\n\u001b[0;32m    106\u001b[0m         \u001b[38;5;28m__import__\u001b[39m(used)\n\u001b[1;32m--> 107\u001b[0m         found \u001b[38;5;241m=\u001b[39m \u001b[38;5;28mgetattr\u001b[39m(found, n)\n\u001b[0;32m    108\u001b[0m \u001b[38;5;28;01mreturn\u001b[39;00m found\n",
      "\u001b[1;31mAttributeError\u001b[0m: partially initialized module 'airflow' has no attribute 'utils' (most likely due to a circular import)",
      "\nThe above exception was the direct cause of the following exception:\n",
      "\u001b[1;31mValueError\u001b[0m                                Traceback (most recent call last)",
      "Cell \u001b[1;32mIn[14], line 1\u001b[0m\n\u001b[1;32m----> 1\u001b[0m \u001b[38;5;28;01mfrom\u001b[39;00m \u001b[38;5;21;01mairflow\u001b[39;00m \u001b[38;5;28;01mimport\u001b[39;00m DAG\n\u001b[0;32m      2\u001b[0m \u001b[38;5;28;01mfrom\u001b[39;00m \u001b[38;5;21;01mairflow\u001b[39;00m\u001b[38;5;21;01m.\u001b[39;00m\u001b[38;5;21;01moperators\u001b[39;00m\u001b[38;5;21;01m.\u001b[39;00m\u001b[38;5;21;01mpython\u001b[39;00m \u001b[38;5;28;01mimport\u001b[39;00m PythonOperator\n\u001b[0;32m      3\u001b[0m \u001b[38;5;28;01mfrom\u001b[39;00m \u001b[38;5;21;01mairflow\u001b[39;00m\u001b[38;5;21;01m.\u001b[39;00m\u001b[38;5;21;01mproviders\u001b[39;00m\u001b[38;5;21;01m.\u001b[39;00m\u001b[38;5;21;01mgoogle\u001b[39;00m\u001b[38;5;21;01m.\u001b[39;00m\u001b[38;5;21;01mdrive\u001b[39;00m\u001b[38;5;21;01m.\u001b[39;00m\u001b[38;5;21;01moperators\u001b[39;00m\u001b[38;5;21;01m.\u001b[39;00m\u001b[38;5;21;01mdrive\u001b[39;00m \u001b[38;5;28;01mimport\u001b[39;00m GoogleDriveUploadOperator\n",
      "File \u001b[1;32me:\\Python\\Lib\\site-packages\\airflow\\__init__.py:73\u001b[0m\n\u001b[0;32m     67\u001b[0m \u001b[38;5;66;03m# Perform side-effects unless someone has explicitly opted out before import\u001b[39;00m\n\u001b[0;32m     68\u001b[0m \u001b[38;5;66;03m# WARNING: DO NOT USE THIS UNLESS YOU REALLY KNOW WHAT YOU'RE DOING.\u001b[39;00m\n\u001b[0;32m     69\u001b[0m \u001b[38;5;66;03m# This environment variable prevents proper initialization, and things like\u001b[39;00m\n\u001b[0;32m     70\u001b[0m \u001b[38;5;66;03m# configs, logging, the ORM, etc. will be broken. It is only useful if you only\u001b[39;00m\n\u001b[0;32m     71\u001b[0m \u001b[38;5;66;03m# access certain trivial constants and free functions (e.g. `__version__`).\u001b[39;00m\n\u001b[0;32m     72\u001b[0m \u001b[38;5;28;01mif\u001b[39;00m \u001b[38;5;129;01mnot\u001b[39;00m os\u001b[38;5;241m.\u001b[39menviron\u001b[38;5;241m.\u001b[39mget(\u001b[38;5;124m\"\u001b[39m\u001b[38;5;124m_AIRFLOW__AS_LIBRARY\u001b[39m\u001b[38;5;124m\"\u001b[39m, \u001b[38;5;28;01mNone\u001b[39;00m):\n\u001b[1;32m---> 73\u001b[0m     \u001b[43msettings\u001b[49m\u001b[38;5;241;43m.\u001b[39;49m\u001b[43minitialize\u001b[49m\u001b[43m(\u001b[49m\u001b[43m)\u001b[49m\n\u001b[0;32m     75\u001b[0m \u001b[38;5;66;03m# Things to lazy import in form {local_name: ('target_module', 'target_name', 'deprecated')}\u001b[39;00m\n\u001b[0;32m     76\u001b[0m __lazy_imports: \u001b[38;5;28mdict\u001b[39m[\u001b[38;5;28mstr\u001b[39m, \u001b[38;5;28mtuple\u001b[39m[\u001b[38;5;28mstr\u001b[39m, \u001b[38;5;28mstr\u001b[39m, \u001b[38;5;28mbool\u001b[39m]] \u001b[38;5;241m=\u001b[39m {\n\u001b[0;32m     77\u001b[0m     \u001b[38;5;124m\"\u001b[39m\u001b[38;5;124mDAG\u001b[39m\u001b[38;5;124m\"\u001b[39m: (\u001b[38;5;124m\"\u001b[39m\u001b[38;5;124m.models.dag\u001b[39m\u001b[38;5;124m\"\u001b[39m, \u001b[38;5;124m\"\u001b[39m\u001b[38;5;124mDAG\u001b[39m\u001b[38;5;124m\"\u001b[39m, \u001b[38;5;28;01mFalse\u001b[39;00m),\n\u001b[0;32m     78\u001b[0m     \u001b[38;5;124m\"\u001b[39m\u001b[38;5;124mDataset\u001b[39m\u001b[38;5;124m\"\u001b[39m: (\u001b[38;5;124m\"\u001b[39m\u001b[38;5;124m.datasets\u001b[39m\u001b[38;5;124m\"\u001b[39m, \u001b[38;5;124m\"\u001b[39m\u001b[38;5;124mDataset\u001b[39m\u001b[38;5;124m\"\u001b[39m, \u001b[38;5;28;01mFalse\u001b[39;00m),\n\u001b[1;32m   (...)\u001b[0m\n\u001b[0;32m     82\u001b[0m     \u001b[38;5;124m\"\u001b[39m\u001b[38;5;124mAirflowException\u001b[39m\u001b[38;5;124m\"\u001b[39m: (\u001b[38;5;124m\"\u001b[39m\u001b[38;5;124m.exceptions\u001b[39m\u001b[38;5;124m\"\u001b[39m, \u001b[38;5;124m\"\u001b[39m\u001b[38;5;124mAirflowException\u001b[39m\u001b[38;5;124m\"\u001b[39m, \u001b[38;5;28;01mTrue\u001b[39;00m),\n\u001b[0;32m     83\u001b[0m }\n",
      "File \u001b[1;32me:\\Python\\Lib\\site-packages\\airflow\\settings.py:531\u001b[0m, in \u001b[0;36minitialize\u001b[1;34m()\u001b[0m\n\u001b[0;32m    529\u001b[0m import_local_settings()\n\u001b[0;32m    530\u001b[0m \u001b[38;5;28;01mglobal\u001b[39;00m LOGGING_CLASS_PATH\n\u001b[1;32m--> 531\u001b[0m LOGGING_CLASS_PATH \u001b[38;5;241m=\u001b[39m \u001b[43mconfigure_logging\u001b[49m\u001b[43m(\u001b[49m\u001b[43m)\u001b[49m\n\u001b[0;32m    532\u001b[0m State\u001b[38;5;241m.\u001b[39mstate_color\u001b[38;5;241m.\u001b[39mupdate(STATE_COLORS)\n\u001b[0;32m    534\u001b[0m configure_adapters()\n",
      "File \u001b[1;32me:\\Python\\Lib\\site-packages\\airflow\\logging_config.py:74\u001b[0m, in \u001b[0;36mconfigure_logging\u001b[1;34m()\u001b[0m\n\u001b[0;32m     71\u001b[0m     log\u001b[38;5;241m.\u001b[39merror(\u001b[38;5;124m\"\u001b[39m\u001b[38;5;124mUnable to load the config, contains a configuration error.\u001b[39m\u001b[38;5;124m\"\u001b[39m)\n\u001b[0;32m     72\u001b[0m     \u001b[38;5;66;03m# When there is an error in the config, escalate the exception\u001b[39;00m\n\u001b[0;32m     73\u001b[0m     \u001b[38;5;66;03m# otherwise Airflow would silently fall back on the default config\u001b[39;00m\n\u001b[1;32m---> 74\u001b[0m     \u001b[38;5;28;01mraise\u001b[39;00m e\n\u001b[0;32m     76\u001b[0m validate_logging_config(logging_config)\n\u001b[0;32m     78\u001b[0m \u001b[38;5;28;01mreturn\u001b[39;00m logging_class_path\n",
      "File \u001b[1;32me:\\Python\\Lib\\site-packages\\airflow\\logging_config.py:69\u001b[0m, in \u001b[0;36mconfigure_logging\u001b[1;34m()\u001b[0m\n\u001b[0;32m     66\u001b[0m             task_handler_config[\u001b[38;5;124m\"\u001b[39m\u001b[38;5;124mfilters\u001b[39m\u001b[38;5;124m\"\u001b[39m]\u001b[38;5;241m.\u001b[39mappend(\u001b[38;5;124m\"\u001b[39m\u001b[38;5;124mmask_secrets\u001b[39m\u001b[38;5;124m\"\u001b[39m)\n\u001b[0;32m     68\u001b[0m     \u001b[38;5;66;03m# Try to init logging\u001b[39;00m\n\u001b[1;32m---> 69\u001b[0m     \u001b[43mdictConfig\u001b[49m\u001b[43m(\u001b[49m\u001b[43mlogging_config\u001b[49m\u001b[43m)\u001b[49m\n\u001b[0;32m     70\u001b[0m \u001b[38;5;28;01mexcept\u001b[39;00m (\u001b[38;5;167;01mValueError\u001b[39;00m, \u001b[38;5;167;01mKeyError\u001b[39;00m) \u001b[38;5;28;01mas\u001b[39;00m e:\n\u001b[0;32m     71\u001b[0m     log\u001b[38;5;241m.\u001b[39merror(\u001b[38;5;124m\"\u001b[39m\u001b[38;5;124mUnable to load the config, contains a configuration error.\u001b[39m\u001b[38;5;124m\"\u001b[39m)\n",
      "File \u001b[1;32me:\\Python\\Lib\\logging\\config.py:823\u001b[0m, in \u001b[0;36mdictConfig\u001b[1;34m(config)\u001b[0m\n\u001b[0;32m    821\u001b[0m \u001b[38;5;28;01mdef\u001b[39;00m \u001b[38;5;21mdictConfig\u001b[39m(config):\n\u001b[0;32m    822\u001b[0m \u001b[38;5;250m    \u001b[39m\u001b[38;5;124;03m\"\"\"Configure logging using a dictionary.\"\"\"\u001b[39;00m\n\u001b[1;32m--> 823\u001b[0m     \u001b[43mdictConfigClass\u001b[49m\u001b[43m(\u001b[49m\u001b[43mconfig\u001b[49m\u001b[43m)\u001b[49m\u001b[38;5;241;43m.\u001b[39;49m\u001b[43mconfigure\u001b[49m\u001b[43m(\u001b[49m\u001b[43m)\u001b[49m\n",
      "File \u001b[1;32me:\\Python\\Lib\\logging\\config.py:555\u001b[0m, in \u001b[0;36mDictConfigurator.configure\u001b[1;34m(self)\u001b[0m\n\u001b[0;32m    552\u001b[0m         formatters[name] \u001b[38;5;241m=\u001b[39m \u001b[38;5;28mself\u001b[39m\u001b[38;5;241m.\u001b[39mconfigure_formatter(\n\u001b[0;32m    553\u001b[0m                                             formatters[name])\n\u001b[0;32m    554\u001b[0m     \u001b[38;5;28;01mexcept\u001b[39;00m \u001b[38;5;167;01mException\u001b[39;00m \u001b[38;5;28;01mas\u001b[39;00m e:\n\u001b[1;32m--> 555\u001b[0m         \u001b[38;5;28;01mraise\u001b[39;00m \u001b[38;5;167;01mValueError\u001b[39;00m(\u001b[38;5;124m'\u001b[39m\u001b[38;5;124mUnable to configure \u001b[39m\u001b[38;5;124m'\u001b[39m\n\u001b[0;32m    556\u001b[0m                          \u001b[38;5;124m'\u001b[39m\u001b[38;5;124mformatter \u001b[39m\u001b[38;5;132;01m%r\u001b[39;00m\u001b[38;5;124m'\u001b[39m \u001b[38;5;241m%\u001b[39m name) \u001b[38;5;28;01mfrom\u001b[39;00m \u001b[38;5;21;01me\u001b[39;00m\n\u001b[0;32m    557\u001b[0m \u001b[38;5;66;03m# Next, do filters - they don't refer to anything else, either\u001b[39;00m\n\u001b[0;32m    558\u001b[0m filters \u001b[38;5;241m=\u001b[39m config\u001b[38;5;241m.\u001b[39mget(\u001b[38;5;124m'\u001b[39m\u001b[38;5;124mfilters\u001b[39m\u001b[38;5;124m'\u001b[39m, EMPTY_DICT)\n",
      "\u001b[1;31mValueError\u001b[0m: Unable to configure formatter 'airflow'"
     ]
    }
   ],
   "source": [
    "\n",
    "default_args = {\n",
    "    'owner': 'airflow',\n",
    "    'depends_on_past': False,\n",
    "    'start_date': datetime(2023, 3, 21),\n",
    "    'retries': 1,\n",
    "    'retry_delay': timedelta(minutes=5),\n",
    "}\n",
    "\n",
    "dag = DAG(\n",
    "    'data_pipeline',\n",
    "    default_args=default_args,\n",
    "    schedule_interval=timedelta(days=1),\n",
    ")\n",
    "\n",
    "def extract_data(url):\n",
    "    response = requests.get(url)\n",
    "    soup = BeautifulSoup(response.text, 'html.parser')\n",
    "    \n",
    "    links = [a['href'] for a in soup.find_all('a', href=True)]\n",
    "    titles = [h2.text for h2 in soup.find_all('h2')]\n",
    "    descriptions = [p.text for p in soup.find_all('p')]\n",
    "    \n",
    "    return links, titles, descriptions\n",
    "\n",
    "def preprocess_text(text):\n",
    "    # Convert to lowercase\n",
    "    text = text.lower()\n",
    "    \n",
    "    # Remove punctuation\n",
    "    text = re.sub('['+string.punctuation+']', '', text)\n",
    "    \n",
    "    # Remove extra whitespace\n",
    "    text = re.sub(r'\\s+', ' ', text)\n",
    "    \n",
    "    # Remove numbers\n",
    "    text = re.sub(r'\\d+', '', text)\n",
    "    \n",
    "    # Remove common stopwords (e.g., \"the\", \"and\", etc.)\n",
    "    stopwords = ['the', 'and', 'a', 'of', 'to', 'in', 'for', 'is', 'on', 'that', 'with']\n",
    "    text = ' '.join([word for word in text.split() if word not in stopwords])\n",
    "    \n",
    "    return text\n",
    "\n",
    "def transform_data(**kwargs):\n",
    "    # Extract data from (link unavailable) and (link unavailable)\n",
    "    dawn_links, dawn_titles, dawn_descriptions = extract_data('https://www.dawn.com')\n",
    "    bbc_links, bbc_titles, bbc_descriptions = extract_data('https://www.bbc.com')\n",
    "    \n",
    "    # Preprocess and transform the extracted data\n",
    "    dawn_titles = [preprocess_text(title) for title in dawn_titles]\n",
    "    dawn_descriptions = [preprocess_text(description) for description in dawn_descriptions]\n",
    "    bbc_titles = [preprocess_text(title) for title in bbc_titles]\n",
    "    bbc_descriptions = [preprocess_text(description) for description in bbc_descriptions]\n",
    "    \n",
    "    return dawn_links, dawn_titles, dawn_descriptions, bbc_links, bbc_titles, bbc_descriptions\n",
    "\n",
    "def store_data(**kwargs):\n",
    "    # Store the processed data on Google Drive\n",
    "    dawn_links, dawn_titles, dawn_descriptions, bbc_links, bbc_titles, bbc_descriptions = kwargs['ti'].xcom_pull(task_ids='transform_data')\n",
    "    drive_folder = \"15O-_4K4xvYGkS2HrcYD6JQOl1MFzySRx\"\n",
    "    GoogleDriveUploadOperator(\n",
    "        task_id='upload_to_drive',\n",
    "        folder=drive_folder,\n",
    "        file_name='data.zip',\n",
    "        data='data'\n",
    "    )\n",
    "    # Implement Data Version Control (DVC) to track versions of the data\n",
    "    dvc.init()\n",
    "    dvc.add('data')\n",
    "    dvc.commit('-m \"Initial commit\"')\n",
    "    dvc.push()\n",
    "    # Version the metadata against each DVC push to Github repo\n",
    "    GithubFileOperator(\n",
    "        task_id='store_metadata',\n",
    "        repo='Ali20782/MLOps_A2',\n",
    "        file_path='data/metadata.txt',\n",
    "        commit_message='Initial commit',\n",
    "        overwrite=True\n",
    "    )\n",
    "\n",
    "extract_task = PythonOperator(\n",
    "    task_id='extract_data',\n",
    "    python_callable=extract_data\n",
    ")\n",
    "\n",
    "transform_task = PythonOperator(\n",
    "    task_id='transform_data',\n",
    "    python_callable=transform_data\n",
    ")\n",
    "\n",
    "store_task = PythonOperator(\n",
    "    task_id='store_data',\n",
    "    python_callable=store_data\n",
    ")\n",
    "\n",
    "dag.append(extract_task)\n",
    "dag.append(transform_task)\n",
    "dag.append(store_task)"
   ]
  }
 ],
 "metadata": {
  "kernelspec": {
   "display_name": "Python 3",
   "language": "python",
   "name": "python3"
  },
  "language_info": {
   "codemirror_mode": {
    "name": "ipython",
    "version": 3
   },
   "file_extension": ".py",
   "mimetype": "text/x-python",
   "name": "python",
   "nbconvert_exporter": "python",
   "pygments_lexer": "ipython3",
   "version": "3.11.4"
  }
 },
 "nbformat": 4,
 "nbformat_minor": 2
}
